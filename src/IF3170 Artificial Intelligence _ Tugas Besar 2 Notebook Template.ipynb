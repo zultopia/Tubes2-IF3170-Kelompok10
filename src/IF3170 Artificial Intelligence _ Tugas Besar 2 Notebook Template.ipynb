{
 "cells": [
  {
   "cell_type": "markdown",
   "metadata": {
    "id": "uR1JW69eLfG_"
   },
   "source": [
    "# IF3170 Artificial Intelligence | Tugas Besar 2\n",
    "\n",
    "This notebook serves as a template for the assignment. Please create a copy of this notebook to complete your work. You can add more code blocks, markdown blocks, or new sections if needed.\n"
   ]
  },
  {
   "cell_type": "markdown",
   "metadata": {
    "id": "ucbaI5rBLtjJ"
   },
   "source": [
    "Group Number: 10\n",
    "\n",
    "Group Members:\n",
    "- Angelica Kierra Ninta Gurning (13522048)\n",
    "- Imanuel Sebastian Girsang (13522058)\n",
    "- Marzuli Suhada M (13522070)\n",
    "- Muhammad Neo Cicero Koda (13522108)"
   ]
  },
  {
   "cell_type": "markdown",
   "metadata": {
    "id": "GwzsfETHLfHA"
   },
   "source": [
    "## Import Libraries"
   ]
  },
  {
   "cell_type": "code",
   "execution_count": null,
   "metadata": {
    "id": "jZJU5W_4LfHB"
   },
   "outputs": [],
   "source": [
    "import pandas as pd\n",
    "import numpy as np\n",
    "from sklearn.model_selection import train_test_split\n",
    "import seaborn as sns\n",
    "import matplotlib.pyplot as plt\n",
    "from scipy.stats import chi2_contingency, pointbiserialr\n",
    "from sklearn.linear_model import LinearRegression"
   ]
  },
  {
   "cell_type": "markdown",
   "metadata": {
    "id": "OKbjLIdYLfHC"
   },
   "source": [
    "## Import Dataset"
   ]
  },
  {
   "cell_type": "code",
   "execution_count": null,
   "metadata": {
    "id": "-IWFJ-gdLfHD"
   },
   "outputs": [],
   "source": [
    "# Import dataset dari link Google Drive\n",
    "def load_data_from_drive(file_url):\n",
    "    file_id = file_url.split(\"/d/\")[1].split(\"/view\")[0]\n",
    "    download_url = f\"https://drive.google.com/uc?id={file_id}\"\n",
    "    return pd.read_csv(download_url)\n",
    "\n",
    "# Link dataset train dari Google Drive\n",
    "additional_features_train_url = \"https://drive.google.com/file/d/1GTK0JaBLVupIjtvqNqd0lnbasOEa_n8Q/view?usp=drive_link\"\n",
    "basic_features_train_url = \"https://drive.google.com/file/d/10TbwlpAl4YnoqoS3cssK9HIUsLhpSqud/view?usp=drive_link\"\n",
    "content_features_train_url = \"https://drive.google.com/file/d/1XTO1ZZX9pbh_snyjmGfm7ieL0K6rXKvs/view?usp=drive_link\"\n",
    "flow_features_train_url = \"https://drive.google.com/file/d/1b-WtpGkqSSRtLVBvVRpVKBsJmOQnWDbg/view?usp=drive_link\"\n",
    "time_features_train_url = \"https://drive.google.com/file/d/1OuPIWs5HSO4KwjCSETDGxwa_tMn6HkKK/view?usp=drive_link\"\n",
    "labels_train_url = \"https://drive.google.com/file/d/1c1vlrV8g6KbCitMOsgslo2YzDaWrigVb/view?usp=drive_link\"\n",
    "\n",
    "# Load dataset train\n",
    "additional_features_train = load_data_from_drive(additional_features_train_url)\n",
    "basic_features_train = load_data_from_drive(basic_features_train_url)\n",
    "content_features_train = load_data_from_drive(content_features_train_url)\n",
    "flow_features_train = load_data_from_drive(flow_features_train_url)\n",
    "time_features_train = load_data_from_drive(time_features_train_url)\n",
    "labels_train = load_data_from_drive(labels_train_url)\n",
    "\n",
    "# Link dataset test dari Google Drive\n",
    "additional_features_test_url = \"https://drive.google.com/file/d/1aY5EfAky4_86nab3Oyg_QrffviuT4Xi0/view?usp=sharing\"\n",
    "basic_features_test_url = \"https://drive.google.com/file/d/1dtM7t2U7JYGPUwF-r2ta7xFvfSh51nwy/view?usp=sharing\"\n",
    "content_features_test_url = \"https://drive.google.com/file/d/1XvPV8hoal2jF92-kaguoUcpjtPGOQqXd/view?usp=drive_link\"\n",
    "flow_features_test_url = \"https://drive.google.com/file/d/1GaWGknP1j2L-TpPYLvmuUNPO7JBu78aD/view?usp=drive_link\"\n",
    "time_features_test_url = \"https://drive.google.com/file/d/1i7RLlEUgV1b6j4VZS_ZRcqwTpZioGEdm/view?usp=drive_link\"\n",
    "\n",
    "# Load dataset test\n",
    "additional_features_test = load_data_from_drive(additional_features_test_url)\n",
    "basic_features_test = load_data_from_drive(basic_features_test_url)\n",
    "content_features_test = load_data_from_drive(content_features_test_url)\n",
    "flow_features_test = load_data_from_drive(flow_features_test_url)\n",
    "time_features_test = load_data_from_drive(time_features_test_url)\n",
    "\n",
    "# Merge datasets train based on \"id\" column\n",
    "datasets_train = [additional_features_train, basic_features_train, content_features_train, flow_features_train, time_features_train, labels_train]\n",
    "train_data = pd.merge(datasets_train[0], datasets_train[1], on=\"id\")\n",
    "for i in range(2, len(datasets_train)):\n",
    "    train_data = pd.merge(train_data, datasets_train[i], on=\"id\")\n",
    "\n",
    "# Merge datasets test based on \"id\" column\n",
    "datasets_test = [additional_features_test, basic_features_test, content_features_test, flow_features_test, time_features_test]\n",
    "test_data = pd.merge(datasets_test[0], datasets_test[1], on=\"id\")\n",
    "for i in range(2, len(datasets_test)):\n",
    "    test_data = pd.merge(test_data, datasets_test[i], on=\"id\")\n",
    "\n",
    "# Check the merged data\n",
    "print(\"Train data shape:\", train_data.shape)\n",
    "print(\"Test data shape:\", test_data.shape)"
   ]
  },
  {
   "cell_type": "markdown",
   "metadata": {
    "id": "YdSor5sdIYGs"
   },
   "source": [
    "# Exploratory Data Analysis (Optional)\n",
    "\n",
    "Exploratory Data Analysis (EDA) is a crucial step in the data analysis process that involves examining and visualizing data sets to uncover patterns, trends, anomalies, and insights. It is the first step before applying more advanced statistical and machine learning techniques. EDA helps you to gain a deep understanding of the data you are working with, allowing you to make informed decisions and formulate hypotheses for further analysis."
   ]
  },
  {
   "cell_type": "code",
   "execution_count": null,
   "metadata": {
    "id": "bGiGPVYNIoWk"
   },
   "outputs": [],
   "source": [
    "# Informasi Umum Dataset\n",
    "print(\"Train Data Info:\")\n",
    "print(train_data.info())\n",
    "print(\"\\nTest Data Info:\")\n",
    "print(test_data.info())"
   ]
  },
  {
   "cell_type": "code",
   "execution_count": null,
   "metadata": {},
   "outputs": [],
   "source": [
    "# Statistik Deskriptif\n",
    "print(\"\\nStatistik Deskriptif Dataset Train:\")\n",
    "print(train_data.describe())\n",
    "print(\"\\nStatistik Deskriptif Dataset Test:\")\n",
    "print(test_data.describe())"
   ]
  },
  {
   "cell_type": "code",
   "execution_count": null,
   "metadata": {},
   "outputs": [],
   "source": [
    "# Cek Missing Values\n",
    "print(\"\\nMissing Values Dataset Train:\")\n",
    "print(train_data.isnull().sum())\n",
    "print(\"\\nMissing Values Dataset Test:\")\n",
    "print(test_data.isnull().sum())"
   ]
  },
  {
   "cell_type": "markdown",
   "metadata": {},
   "source": [
    "Terlihat bahwa baik pada dataset train maupun dataset test, setiap kolom memiliki missing values. "
   ]
  },
  {
   "cell_type": "code",
   "execution_count": null,
   "metadata": {},
   "outputs": [],
   "source": [
    "# Visualisasi Distribusi Variabel Numerik\n",
    "numerical_features = train_data.select_dtypes(include=[\"float64\", \"int64\"]).columns\n",
    "train_data[numerical_features].hist(bins=30, figsize=(30, 30), color=\"blue\", alpha=0.7)\n",
    "plt.suptitle(\"Distribusi Variabel Numerik\")\n",
    "plt.show()"
   ]
  },
  {
   "cell_type": "code",
   "execution_count": null,
   "metadata": {},
   "outputs": [],
   "source": [
    "# Visualisasi Distribusi Variabel Kategorikal\n",
    "categorical_features = train_data.select_dtypes(include=[\"object\"]).columns\n",
    "\n",
    "plt.figure(figsize=(20, len(categorical_features) * 5))\n",
    "for i, col in enumerate(categorical_features, 1):\n",
    "    plt.subplot(len(categorical_features), 1, i)\n",
    "    sns.countplot(data=train_data, x=col, color=\"blue\")\n",
    "    plt.title(f'Distribusi {col}')\n",
    "    plt.xticks(rotation=45)\n",
    "plt.tight_layout()\n",
    "plt.show()"
   ]
  },
  {
   "cell_type": "markdown",
   "metadata": {},
   "source": [
    "Dataset ini menunjukkan adanya distribusi yang tidak merata di berbagai variabel kategorikal.\n",
    "\n",
    "1. Distribusi state:\n",
    "- Mayoritas nilai dari kolom state didominasi oleh dua kategori, yaitu FIN dan INT.\n",
    "- Sementara itu, kategori lain seperti CON, REQ, dan lainnya memiliki jumlah yang jauh lebih sedikit.\n",
    "Ini menunjukkan bahwa sebagian besar data terkait dengan kondisi atau status spesifik yang sangat umum (FIN dan INT).\n",
    "\n",
    "2. Distribusi service:\n",
    "- Mayoritas data pada kolom service jatuh pada nilai -, yang mungkin menandakan \"no service\" atau \"unknown service\".\n",
    "- Selain itu, layanan seperti dns, http, dan beberapa layanan lain muncul dengan frekuensi lebih signifikan dibandingkan kategori lainnya.\n",
    "Ini bisa menunjukkan bahwa mayoritas aktivitas yang tercatat dalam dataset tidak terkait dengan layanan spesifik, tetapi beberapa layanan populer seperti DNS dan HTTP masih memiliki distribusi yang signifikan.\n",
    "\n",
    "3. Distribusi proto:\n",
    "- Variabel proto menunjukkan mayoritas protokol yang digunakan adalah tcp.\n",
    "- Beberapa protokol lain seperti udp memiliki distribusi yang signifikan tetapi lebih kecil dibandingkan tcp.\n",
    "- Protokol lainnya memiliki frekuensi yang sangat rendah, menunjukkan aktivitas jaringan didominasi oleh tcp.\n",
    "\n",
    "4. Distribusi attack_cat:\n",
    "- Sebagian besar data berada dalam kategori Normal, menunjukkan bahwa sebagian besar aktivitas dalam dataset dianggap \"normal\" atau tidak berbahaya.\n",
    "- Namun, kategori Generic dan Exploits memiliki frekuensi yang cukup signifikan, menandakan adanya serangan atau aktivitas anomali yang relatif umum terjadi.\n",
    "- Kategori lain seperti Reconnaissance, DoS, dan Fuzzers memiliki frekuensi lebih kecil tetapi masih relevan untuk analisis lebih lanjut."
   ]
  },
  {
   "cell_type": "code",
   "execution_count": null,
   "metadata": {},
   "outputs": [],
   "source": [
    "# Identifikasi Outlier\n",
    "numeric_columns = train_data.select_dtypes(include=['float64', 'int64']).columns\n",
    "\n",
    "num_cols = 6 \n",
    "num_rows = -(-len(numeric_columns) // num_cols) \n",
    "fig, axes = plt.subplots(num_rows, num_cols, figsize=(30, num_rows * 5)) \n",
    "axes = axes.flatten() \n",
    "\n",
    "for i, col in enumerate(numeric_columns):\n",
    "    sns.boxplot(x=train_data[col], ax=axes[i])\n",
    "    axes[i].set_title(f\"Boxplot {col}\", fontsize=10)\n",
    "    axes[i].tick_params(axis='x', rotation=90)\n",
    "\n",
    "for j in range(i + 1, len(axes)):\n",
    "    fig.delaxes(axes[j])\n",
    "\n",
    "plt.tight_layout()\n",
    "plt.show()"
   ]
  },
  {
   "cell_type": "code",
   "execution_count": null,
   "metadata": {},
   "outputs": [],
   "source": [
    "Q1 = train_data[numeric_columns].quantile(0.25)\n",
    "Q3 = train_data[numeric_columns].quantile(0.75)\n",
    "IQR = Q3 - Q1\n",
    "\n",
    "outliers = ((train_data[numeric_columns] < (Q1 - 1.5 * IQR)) | (train_data[numeric_columns] > (Q3 + 1.5 * IQR))).sum()\n",
    "print(\"Jumlah outlier berdasarkan IQR per kolom:\")\n",
    "print(outliers)"
   ]
  },
  {
   "cell_type": "code",
   "execution_count": null,
   "metadata": {},
   "outputs": [],
   "source": [
    "import numpy as np\n",
    "\n",
    "z_scores = np.abs((train_data[numeric_columns] - train_data[numeric_columns].mean()) / train_data[numeric_columns].std())\n",
    "outliers = (z_scores > 3).sum()\n",
    "print(\"Jumlah outlier berdasarkan Z-Score per kolom:\")\n",
    "print(outliers)"
   ]
  },
  {
   "cell_type": "markdown",
   "metadata": {},
   "source": [
    "Jumlah outlier yang ditunjukkan oleh IQR dan Z-Score menghasilkan hasil berbeda di beberapa kolom. Berikut penyebab dan kelebihan dari masing-masing metode:\n",
    "\n",
    "#### IQR (Interquartile Range)\n",
    "\n",
    "Kelebihan:\n",
    "- Tidak bergantung pada distribusi data (robust terhadap data yang tidak normal).\n",
    "- Menggunakan nilai Q1 (25%) dan Q3 (75%) sebagai batas.\n",
    "- Cocok untuk dataset yang memiliki distribusi skewed.\n",
    "\n",
    "Kelemahan:\n",
    "- Bisa \"mengabaikan\" outlier yang ekstrem jika distribusi data sangat menyebar atau outlier berada jauh dari median.\n",
    "\n",
    "#### Z-Score\n",
    "\n",
    "Kelebihan:\n",
    "- Menggunakan rata-rata dan standar deviasi untuk menentukan outlier.\n",
    "- Cocok untuk data yang berdistribusi normal.\n",
    "- Mengidentifikasi outlier ekstrem dengan lebih jelas.\n",
    "\n",
    "Kelemahan:\n",
    "- Rentan terhadap data skewed atau distribusi tidak normal karena dipengaruhi oleh mean dan standar deviasi.\n",
    "\n",
    "#### Kolom dengan Perbedaan Signifikan\n",
    "\n",
    "Kolom seperti:\n",
    "- ct_flw_http_mthd (IQR: 16,996 vs Z-Score: 1,005)\n",
    "- ct_dst_sport_ltm (IQR: 35,385 vs Z-Score: 595)\n",
    "- dload (IQR: 36,132 vs Z-Score: 5,227)\n",
    "\n",
    "Hal ini menunjukkan distribusi data pada kolom tersebut sangat skewed sehingga IQR mendeteksi lebih banyak outlier dibanding Z-Score. Sebaliknya, kolom seperti response_body_len dan dur memiliki lebih banyak outlier yang terdeteksi menggunakan Z-Score karena distribusi data lebih mendekati normal."
   ]
  },
  {
   "cell_type": "code",
   "execution_count": null,
   "metadata": {},
   "outputs": [],
   "source": [
    "# Function to calculate Cramér's V\n",
    "def cramers_v(x, y):\n",
    "    contingency_table = pd.crosstab(x, y)\n",
    "    chi2 = chi2_contingency(contingency_table)[0]\n",
    "    n = contingency_table.sum().sum()\n",
    "    r, k = contingency_table.shape\n",
    "    return np.sqrt(chi2 / (n * (min(r, k) - 1)))\n",
    "\n",
    "# Correlation matrix and heatmap\n",
    "numeric_df = train_data[numeric_columns]\n",
    "\n",
    "# Calculate the correlation matrix and plot the heatmap\n",
    "plt.figure(figsize=(20, 16))\n",
    "correlation_matrix = numeric_df.corr()\n",
    "sns.heatmap(correlation_matrix, cmap='coolwarm', annot=True, annot_kws={\"size\": 6})\n",
    "plt.title(\"Correlation Heatmap (Numeric - Numeric)\")\n",
    "plt.show()"
   ]
  },
  {
   "cell_type": "markdown",
   "metadata": {},
   "source": [
    "Dari heatmap diatas, kolom dwin dan swin memiliki nilai korelasi yang paling tinggi yaitu sebesar 0.99 yang berarti ada hubungan yang sangat kuat antara kedua kolom ini. Sedangkan, kolom dwin dan ct_state_ttl memiliki korelasi yang paling rendah yaitu sebesar -0.61 yang menyatakan bahwa ada sedikit hubungan terbalik antara kedua kolom ini. Kotak yang bernilai 0 berarti bahwa tidak ada hubungan sama sekali antara baris dan kolom yang beririsan pada kotak tersebut."
   ]
  },
  {
   "cell_type": "code",
   "execution_count": null,
   "metadata": {},
   "outputs": [],
   "source": [
    "categorical_columns = [\"proto\",\n",
    "                       \"state\",\n",
    "                       \"service\",\n",
    "                       \"is_sm_ips_ports\",\n",
    "                       \"is_ftp_login\",\n",
    "                       \"attack_cat\",\n",
    "                       \"label\",\n",
    "                       \"id\"]\n",
    "\n",
    "cramers_v_matrix = pd.DataFrame(index=categorical_columns, columns=categorical_columns)\n",
    "\n",
    "for col1 in categorical_columns:\n",
    "    for col2 in categorical_columns:\n",
    "        if col1 == col2:\n",
    "            cramers_v_matrix.loc[col1, col2] = 1.0\n",
    "        else:\n",
    "            cramers_v_matrix.loc[col1, col2] = cramers_v(train_data[col1], train_data[col2])\n",
    "\n",
    "cramers_v_matrix = cramers_v_matrix.astype(float)\n",
    "\n",
    "plt.figure(figsize=(10, 8))\n",
    "sns.heatmap(cramers_v_matrix, annot=True, cmap='coolwarm', center=0)\n",
    "plt.title(\"Cramér's V Heatmap for Categorical Columns\")\n",
    "plt.show()"
   ]
  },
  {
   "cell_type": "markdown",
   "metadata": {},
   "source": [
    "Nilai korelasi tinggi (0.98) antara kolom proto dan is_sm_ips_ports dalam visualisasi heatmap tersebut menunjukkan bahwa protokol tertentu (proto) sangat terkait dengan kondisi IP dan port yang sama (is_sm_ips_ports). Artinya, protokol tertentu lebih mungkin terjadi ketika sumber dan tujuan IP serta portnya sama.\n",
    "\n",
    "Ini menunjukkan bahwa jenis protokol mungkin menjadi indikator yang kuat tentang apakah komunikasi terjadi antara IP dan port yang sama atau berbeda. Korelasi tinggi ini mengindikasikan hubungan yang hampir deterministik, di mana satu kolom dapat memprediksi kolom lainnya dengan sangat akurat."
   ]
  },
  {
   "cell_type": "code",
   "execution_count": null,
   "metadata": {},
   "outputs": [],
   "source": [
    "categorical_columns = [col for col in categorical_columns if col != 'id']\n",
    "\n",
    "df_temp = train_data.copy()\n",
    "\n",
    "top_8_protos = df_temp['proto'].value_counts().nlargest(8).index\n",
    "df_temp['proto_limited'] = df_temp['proto'].apply(lambda x: x if x in top_8_protos else 'Other')\n",
    "\n",
    "r_squared_matrix = pd.DataFrame(index=categorical_columns, columns=numeric_columns)\n",
    "\n",
    "for categorical_col in categorical_columns:\n",
    "    if categorical_col == 'proto':\n",
    "        X = pd.get_dummies(df_temp['proto_limited'], drop_first=True)\n",
    "    else:\n",
    "        X = pd.get_dummies(train_data[categorical_col], drop_first=True)\n",
    "        \n",
    "    for feature in numeric_columns:\n",
    "        y = train_data[feature]\n",
    "        X_valid = X[y.notna()]\n",
    "        y_valid = y.dropna()\n",
    "        \n",
    "        if len(y_valid) > 0: \n",
    "            model = LinearRegression()\n",
    "            model.fit(X_valid, y_valid)\n",
    "\n",
    "            r_squared = model.score(X_valid, y_valid)\n",
    "            r_squared_matrix.loc[categorical_col, feature] = r_squared\n",
    "\n",
    "r_squared_matrix = r_squared_matrix.apply(pd.to_numeric)\n",
    "\n",
    "plt.figure(figsize=(14, 10))\n",
    "sns.heatmap(r_squared_matrix, annot=True, cmap=\"coolwarm\", fmt=\".2f\", annot_kws={\"size\": 6}, \n",
    "            cbar_kws={'label': 'R-squared'}, linewidths=0.5)\n",
    "plt.title('Heatmap of R-squared Values for Categorical vs Numeric Features', fontsize=18)\n",
    "plt.xlabel('Numeric Features', fontsize=14)\n",
    "plt.ylabel('Categorical Features', fontsize=14)\n",
    "plt.xticks(rotation=90, fontsize=8)\n",
    "plt.yticks(fontsize=8)\n",
    "plt.tight_layout()\n",
    "plt.show()"
   ]
  },
  {
   "cell_type": "markdown",
   "metadata": {},
   "source": [
    "Pada visualisasi heatmap untuk korelasi kolom kategorikal dan kolom numerik tersebut terlihat bahwa kolom is_ftp_login dan kolom ct_ftp_cmd memiliki nilai korelasi paling tinggi yaitu sebesar 1. Hal ini menunjukkan bahwa terdapat hubungan linier sempurna antara kedua kolom tersebut. Setiap kali terjadi login FTP (is_ftp_login bernilai 1), maka kolom ct_ftp_cmd menunjukkan jumlah perintah FTP yang relevan, sehingga nilai ct_ftp_cmd mungkin menjadi positif. Sebaliknya, jika is_ftp_login bernilai 0, maka ct_ftp_cmd juga mungkin 0 atau berada dalam rentang tertentu."
   ]
  },
  {
   "cell_type": "markdown",
   "metadata": {
    "id": "gvx-gT3bLfHM"
   },
   "source": [
    "# 1. Split Training Set and Validation Set\n",
    "\n",
    "Splitting the training and validation set works as an early diagnostic towards the performance of the model we train. This is done before the preprocessing steps to **avoid data leakage inbetween the sets**. If you want to use k-fold cross-validation, split the data later and do the cleaning and preprocessing separately for each split.\n",
    "\n",
    "Note: For training, you should use the data contained in the `train` folder given by the TA. The `test` data is only used for kaggle submission."
   ]
  },
  {
   "cell_type": "code",
   "execution_count": null,
   "metadata": {
    "id": "4yWCUFFBLfHM"
   },
   "outputs": [],
   "source": [
    "# Split training set and validation set here, store into variables train_set and val_set.\n",
    "# Remember to also keep the original training set before splitting. This will come important later.\n",
    "# train_set, val_set = ...\n",
    "X = train_data.drop(columns=[\"attack_cat\", \"label\"])  # Drop variabel target\n",
    "y = train_data[\"attack_cat\"]  # Variabel target\n",
    "\n",
    "# Split data menjadi training set dan validation set\n",
    "train_set, val_set, y_train, y_val = train_test_split(\n",
    "    X, y, test_size=0.2, random_state=42, stratify=y\n",
    ")\n",
    "\n",
    "print(f\"Ukuran Training Set: {train_set.shape}\")\n",
    "print(f\"Ukuran Validation Set: {val_set.shape}\")"
   ]
  },
  {
   "cell_type": "markdown",
   "metadata": {
    "id": "IC14lmo_LfHN"
   },
   "source": [
    "# 2. Data Cleaning and Preprocessing\n",
    "\n",
    "This step is the first thing to be done once a Data Scientist have grasped a general knowledge of the data. Raw data is **seldom ready for training**, therefore steps need to be taken to clean and format the data for the Machine Learning model to interpret.\n",
    "\n",
    "By performing data cleaning and preprocessing, you ensure that your dataset is ready for model training, leading to more accurate and reliable machine learning results. These steps are essential for transforming raw data into a format that machine learning algorithms can effectively learn from and make predictions.\n",
    "\n",
    "We will give some common methods for you to try, but you only have to **at least implement one method for each process**. For each step that you will do, **please explain the reason why did you do that process. Write it in a markdown cell under the code cell you wrote.**"
   ]
  },
  {
   "cell_type": "markdown",
   "metadata": {
    "id": "p95_A8hSLfHY"
   },
   "source": [
    "## A. Data Cleaning\n",
    "\n",
    "**Data cleaning** is the crucial first step in preparing your dataset for machine learning. Raw data collected from various sources is often messy and may contain errors, missing values, and inconsistencies. Data cleaning involves the following steps:\n",
    "\n",
    "1. **Handling Missing Data:** Identify and address missing values in the dataset. This can include imputing missing values, removing rows or columns with excessive missing data, or using more advanced techniques like interpolation.\n",
    "\n",
    "2. **Dealing with Outliers:** Identify and handle outliers, which are data points significantly different from the rest of the dataset. Outliers can be removed or transformed to improve model performance.\n",
    "\n",
    "3. **Data Validation:** Check for data integrity and consistency. Ensure that data types are correct, categorical variables have consistent labels, and numerical values fall within expected ranges.\n",
    "\n",
    "4. **Removing Duplicates:** Identify and remove duplicate rows, as they can skew the model's training process and evaluation metrics.\n",
    "\n",
    "5. **Feature Engineering**: Create new features or modify existing ones to extract relevant information. This step can involve scaling, normalizing, or encoding features for better model interpretability."
   ]
  },
  {
   "cell_type": "markdown",
   "metadata": {
    "id": "_wruGao9LfHZ"
   },
   "source": [
    "### I. Handling Missing Data\n",
    "\n",
    "Missing data can adversely affect the performance and accuracy of machine learning models. There are several strategies to handle missing data in machine learning:\n",
    "\n",
    "1. **Data Imputation:**\n",
    "\n",
    "    a. **Mean, Median, or Mode Imputation:** For numerical features, you can replace missing values with the mean, median, or mode of the non-missing values in the same feature. This method is simple and often effective when data is missing at random.\n",
    "\n",
    "    b. **Constant Value Imputation:** You can replace missing values with a predefined constant value (e.g., 0) if it makes sense for your dataset and problem.\n",
    "\n",
    "    c. **Imputation Using Predictive Models:** More advanced techniques involve using predictive models to estimate missing values. For example, you can train a regression model to predict missing numerical values or a classification model to predict missing categorical values.\n",
    "\n",
    "2. **Deletion of Missing Data:**\n",
    "\n",
    "    a. **Listwise Deletion:** In cases where the amount of missing data is relatively small, you can simply remove rows with missing values from your dataset. However, this approach can lead to a loss of valuable information.\n",
    "\n",
    "    b. **Column (Feature) Deletion:** If a feature has a large number of missing values and is not critical for your analysis, you can consider removing that feature altogether.\n",
    "\n",
    "3. **Domain-Specific Strategies:**\n",
    "\n",
    "    a. **Domain Knowledge:** In some cases, domain knowledge can guide the imputation process. For example, if you know that missing values are related to a specific condition, you can impute them accordingly.\n",
    "\n",
    "4. **Imputation Libraries:**\n",
    "\n",
    "    a. **Scikit-Learn:** Scikit-Learn provides a `SimpleImputer` class that can handle basic imputation strategies like mean, median, and mode imputation.\n",
    "\n",
    "    b. **Fancyimpute:** Fancyimpute is a Python library that offers more advanced imputation techniques, including matrix factorization, k-nearest neighbors, and deep learning-based methods.\n",
    "\n",
    "The choice of imputation method should be guided by the nature of your data, the amount of missing data, the problem you are trying to solve, and the assumptions you are willing to make."
   ]
  },
  {
   "cell_type": "code",
   "execution_count": null,
   "metadata": {
    "id": "ucZNfCkiLfHZ"
   },
   "outputs": [],
   "source": [
    "from sklearn.impute import SimpleImputer\n",
    "\n",
    "# Pisahkan kolom numerik dan kategorikal\n",
    "numerical_cols = train_set.select_dtypes(include=['float64', 'int64']).columns\n",
    "categorical_cols = train_set.select_dtypes(include=['object']).columns\n",
    "\n",
    "# 1. Tangani missing values di kolom numerik dengan median\n",
    "num_imputer = SimpleImputer(strategy='median')\n",
    "train_set[numerical_cols] = num_imputer.fit_transform(train_set[numerical_cols])\n",
    "val_set[numerical_cols] = num_imputer.transform(val_set[numerical_cols])\n",
    "\n",
    "# 2. Tangani missing values di kolom kategorikal dengan modus\n",
    "cat_imputer = SimpleImputer(strategy='most_frequent')\n",
    "train_set[categorical_cols] = cat_imputer.fit_transform(train_set[categorical_cols])\n",
    "val_set[categorical_cols] = cat_imputer.transform(val_set[categorical_cols])\n",
    "\n",
    "# 3. Validasi hasil imputasi\n",
    "print(\"Missing Values Setelah Imputasi (Train Set):\")\n",
    "print(train_set.isnull().sum())\n",
    "\n",
    "print(\"\\nMissing Values Setelah Imputasi (Validation Set):\")\n",
    "print(val_set.isnull().sum())"
   ]
  },
  {
   "cell_type": "markdown",
   "metadata": {
    "id": "zgrSMcK75VY_"
   },
   "source": [
    "### II. Dealing with Outliers\n",
    "\n",
    "Outliers are data points that significantly differ from the majority of the data. They can be unusually high or low values that do not fit the pattern of the rest of the dataset. Outliers can significantly impact model performance, so it is important to handle them properly.\n",
    "\n",
    "Some methods to handle outliers:\n",
    "1. **Imputation**: Replace with mean, median, or a boundary value.\n",
    "2. **Clipping**: Cap values to upper and lower limits.\n",
    "3. **Transformation**: Use log, square root, or power transformations to reduce their influence.\n",
    "4. **Model-Based**: Use algorithms robust to outliers (e.g., tree-based models, Huber regression)."
   ]
  },
  {
   "cell_type": "code",
   "execution_count": null,
   "metadata": {
    "id": "CgbZ6Lv17Uf0"
   },
   "outputs": [],
   "source": [
    "import numpy as np\n",
    "\n",
    "# Daftar kolom berdasarkan jumlah outlier\n",
    "# Outlier > 20.000\n",
    "high_outlier_cols = ['ct_dst_ltm', 'ct_src_dport_ltm', 'ct_dst_sport_ltm', \n",
    "                     'ct_dst_src_ltm', 'sbytes', 'dbytes', 'dloss', 'dload', \n",
    "                     'spkts', 'dpkts', 'smean', 'dmean', 'synack']\n",
    "\n",
    "# Outlier 10.000 - 20.000\n",
    "medium_outlier_cols = ['dur', 'sloss', 'sload', 'sjit', 'djit', 'sinpkt', 'dinpkt', 'tcprtt']\n",
    "\n",
    "# Outlier < 10.000\n",
    "low_outlier_cols = ['ct_state_ttl', 'is_sm_ips_ports', 'is_ftp_login', 'ct_ftp_cmd', \n",
    "                    'ct_srv_src', 'ct_srv_dst', 'response_body_len', 'ackdat']\n",
    "\n",
    "# 1. Handling Outliers: High Outliers -> Clipping\n",
    "for col in high_outlier_cols:\n",
    "    Q1 = train_set[col].quantile(0.25)\n",
    "    Q3 = train_set[col].quantile(0.75)\n",
    "    IQR = Q3 - Q1\n",
    "    lower_bound = Q1 - 1.5 * IQR\n",
    "    upper_bound = Q3 + 1.5 * IQR\n",
    "    \n",
    "    # Clipping pada train_set\n",
    "    train_set[col] = train_set[col].clip(lower=lower_bound, upper=upper_bound)\n",
    "    \n",
    "    # Clipping pada val_set (gunakan nilai dari train_set)\n",
    "    val_set[col] = val_set[col].clip(lower=lower_bound, upper=upper_bound)\n",
    "\n",
    "# 2. Handling Outliers: Medium Outliers -> Replace with Median\n",
    "for col in medium_outlier_cols:\n",
    "    Q1 = train_set[col].quantile(0.25)\n",
    "    Q3 = train_set[col].quantile(0.75)\n",
    "    IQR = Q3 - Q1\n",
    "    lower_bound = Q1 - 1.5 * IQR\n",
    "    upper_bound = Q3 + 1.5 * IQR\n",
    "    \n",
    "    median = train_set[col].median()\n",
    "    \n",
    "    # Imputation pada train_set\n",
    "    train_set[col] = train_set[col].apply(lambda x: median if x < lower_bound or x > upper_bound else x)\n",
    "    \n",
    "    # Imputation pada val_set\n",
    "    val_set[col] = val_set[col].apply(lambda x: median if x < lower_bound or x > upper_bound else x)\n",
    "\n",
    "# 3. Handling Outliers: Low Outliers -> Log Transformation\n",
    "for col in low_outlier_cols:\n",
    "    train_set[col] = np.log1p(train_set[col])  # log1p untuk memastikan nilai nol aman\n",
    "    val_set[col] = np.log1p(val_set[col])      # lakukan hal yang sama pada val_set\n",
    "\n",
    "# 4. Validasi setelah handling outliers\n",
    "print(\"Statistik Deskriptif Setelah Handling Outliers (Train Set):\")\n",
    "print(train_set.describe())\n",
    "\n",
    "print(\"\\nStatistik Deskriptif Setelah Handling Outliers (Validation Set):\")\n",
    "print(val_set.describe())"
   ]
  },
  {
   "cell_type": "markdown",
   "metadata": {
    "id": "aO0ZEZ-s6Lu-"
   },
   "source": [
    "### III. Remove Duplicates\n",
    "Handling duplicate values is crucial because they can compromise data integrity, leading to inaccurate analysis and insights. Duplicate entries can bias machine learning models, causing overfitting and reducing their ability to generalize to new data. They also inflate the dataset size unnecessarily, increasing computational costs and processing times. Additionally, duplicates can distort statistical measures and lead to inconsistencies, ultimately affecting the reliability of data-driven decisions and reporting. Ensuring data quality by removing duplicates is essential for accurate, efficient, and consistent analysis."
   ]
  },
  {
   "cell_type": "code",
   "execution_count": null,
   "metadata": {
    "id": "BHCkkZ-v7iF8"
   },
   "outputs": [],
   "source": [
    "# 1. Cek jumlah duplikat sebelum penghapusan\n",
    "print(\"Jumlah Duplikat Sebelum Penghapusan:\")\n",
    "print(f\"Train Set: {train_set.duplicated().sum()} baris duplikat\")\n",
    "print(f\"Validation Set: {val_set.duplicated().sum()} baris duplikat\\n\")\n",
    "\n",
    "# 2. Hapus duplikat\n",
    "train_set = train_set.drop_duplicates().reset_index(drop=True)\n",
    "val_set = val_set.drop_duplicates().reset_index(drop=True)\n",
    "\n",
    "# 3. Validasi penghapusan duplikat\n",
    "print(\"Jumlah Duplikat Setelah Penghapusan:\")\n",
    "print(f\"Train Set: {train_set.duplicated().sum()} baris duplikat\")\n",
    "print(f\"Validation Set: {val_set.duplicated().sum()} baris duplikat\\n\")\n",
    "\n",
    "# 4. Ukuran dataset setelah penghapusan duplikat\n",
    "print(\"Ukuran Dataset Setelah Remove Duplicates:\")\n",
    "print(f\"Train Set: {train_set.shape}\")\n",
    "print(f\"Validation Set: {val_set.shape}\")"
   ]
  },
  {
   "cell_type": "markdown",
   "metadata": {
    "id": "eycPASmMLfHa"
   },
   "source": [
    "### IV. Feature Engineering\n",
    "\n",
    "**Feature engineering** involves creating new features (input variables) or transforming existing ones to improve the performance of machine learning models. Feature engineering aims to enhance the model's ability to learn patterns and make accurate predictions from the data. It's often said that \"good features make good models.\"\n",
    "\n",
    "1. **Feature Selection:** Feature engineering can involve selecting the most relevant and informative features from the dataset. Removing irrelevant or redundant features not only simplifies the model but also reduces the risk of overfitting.\n",
    "\n",
    "2. **Creating New Features:** Sometimes, the existing features may not capture the underlying patterns effectively. In such cases, engineers create new features that provide additional information. For example:\n",
    "   \n",
    "   - **Polynomial Features:** Engineers may create new features by taking the square, cube, or other higher-order terms of existing numerical features. This can help capture nonlinear relationships.\n",
    "   \n",
    "   - **Interaction Features:** Interaction features are created by combining two or more existing features. For example, if you have features \"length\" and \"width,\" you can create an \"area\" feature by multiplying them.\n",
    "\n",
    "3. **Binning or Discretization:** Continuous numerical features can be divided into bins or categories. For instance, age values can be grouped into bins like \"child,\" \"adult,\" and \"senior.\"\n",
    "\n",
    "4. **Domain-Specific Feature Engineering:** Depending on the domain and problem, engineers may create domain-specific features. For example, in fraud detection, features related to transaction history and user behavior may be engineered to identify anomalies.\n",
    "\n",
    "Feature engineering is both a creative and iterative process. It requires a deep understanding of the data, domain knowledge, and experimentation to determine which features will enhance the model's predictive power."
   ]
  },
  {
   "cell_type": "code",
   "execution_count": null,
   "metadata": {},
   "outputs": [],
   "source": [
    "import xgboost as xgb\n",
    "import matplotlib.pyplot as plt\n",
    "from sklearn.preprocessing import LabelEncoder\n",
    "import pandas as pd\n",
    "\n",
    "# Select only numeric columns from the training set\n",
    "train_set_numeric_fs = train_set.select_dtypes(include=[\"int64\", \"float64\"])\n",
    "\n",
    "# Encode the categorical target variable into numeric labels\n",
    "label_encoder = LabelEncoder()\n",
    "y_train_encoded_fs = label_encoder.fit_transform(y_train)\n",
    "\n",
    "# Train XGBoost model using only numeric columns\n",
    "model = xgb.XGBClassifier()\n",
    "model.fit(train_set_numeric_fs, y_train_encoded_fs)\n",
    "\n",
    "# Get feature importances\n",
    "importances = model.get_booster().get_score(importance_type='gain')\n",
    "\n",
    "# Convert importances to a DataFrame\n",
    "importance_df = pd.DataFrame(importances.items(), columns=['Feature', 'Gain'])\n",
    "\n",
    "# Sort the features by 'Gain' in descending order and select the top\n",
    "top_numeric_df = importance_df.sort_values(by='Gain', ascending=False).head(10)\n",
    "\n",
    "# Display the Top features\n",
    "print(\"Top features by Gain:\")\n",
    "print(top_numeric_df)\n",
    "\n",
    "# Save the top features in an array\n",
    "top_numeric = top_numeric_df['Feature'].values\n",
    "\n",
    "# Optionally, print the array\n",
    "print(\"\\nTop 10 features as an array:\")\n",
    "print(top_numeric)\n"
   ]
  },
  {
   "cell_type": "markdown",
   "metadata": {
    "id": "xw11_49xLfHb"
   },
   "source": [
    "## B. Data Preprocessing\n",
    "\n",
    "**Data preprocessing** is a broader step that encompasses both data cleaning and additional transformations to make the data suitable for machine learning algorithms. Its primary goals are:\n",
    "\n",
    "1. **Feature Scaling:** Ensure that numerical features have similar scales. Common techniques include Min-Max scaling (scaling to a specific range) or standardization (mean-centered, unit variance).\n",
    "\n",
    "2. **Encoding Categorical Variables:** Machine learning models typically work with numerical data, so categorical variables need to be encoded. This can be done using one-hot encoding, label encoding, or more advanced methods like target encoding.\n",
    "\n",
    "3. **Handling Imbalanced Classes:** If dealing with imbalanced classes in a binary classification task, apply techniques such as oversampling, undersampling, or using different evaluation metrics to address class imbalance.\n",
    "\n",
    "4. **Dimensionality Reduction:** Reduce the number of features using techniques like Principal Component Analysis (PCA) or feature selection to simplify the model and potentially improve its performance.\n",
    "\n",
    "5. **Normalization:** Normalize data to achieve a standard distribution. This is particularly important for algorithms that assume normally distributed data."
   ]
  },
  {
   "cell_type": "markdown",
   "metadata": {
    "id": "rVyVnA1hLfHd"
   },
   "source": [
    "### Notes on Preprocessing processes\n",
    "\n",
    "It is advised to create functions or classes that have the same/similar type of inputs and outputs, so you can add, remove, or swap the order of the processes easily. You can implement the functions or classes by yourself\n",
    "\n",
    "or\n",
    "\n",
    "use `sklearn` library. To create a new preprocessing component in `sklearn`, implement a corresponding class that includes:\n",
    "1. Inheritance to `BaseEstimator` and `TransformerMixin`\n",
    "2. The method `fit`\n",
    "3. The method `transform`"
   ]
  },
  {
   "cell_type": "code",
   "execution_count": null,
   "metadata": {
    "id": "WbxHt-5eKz_I"
   },
   "outputs": [],
   "source": [
    "# Example\n",
    "\n",
    "# from sklearn.base import BaseEstimator, TransformerMixin\n",
    "\n",
    "# class FeatureEncoder(BaseEstimator, TransformerMixin):\n",
    "\n",
    "#     def fit(self, X, y=None):\n",
    "\n",
    "#         # Fit the encoder here\n",
    "\n",
    "#         return self\n",
    "\n",
    "#     def transform(self, X):\n",
    "#         X_encoded = X.copy()\n",
    "\n",
    "#         # Encode the categorical variables here\n",
    "\n",
    "#         return X_encoded"
   ]
  },
  {
   "cell_type": "markdown",
   "metadata": {
    "id": "WhCgOl4xLfHb"
   },
   "source": [
    "### I. Feature Scaling\n",
    "\n",
    "**Feature scaling** is a preprocessing technique used in machine learning to standardize the range of independent variables or features of data. The primary goal of feature scaling is to ensure that all features contribute equally to the training process and that machine learning algorithms can work effectively with the data.\n",
    "\n",
    "Here are the main reasons why feature scaling is important:\n",
    "\n",
    "1. **Algorithm Sensitivity:** Many machine learning algorithms are sensitive to the scale of input features. If the scales of features are significantly different, some algorithms may perform poorly or take much longer to converge.\n",
    "\n",
    "2. **Distance-Based Algorithms:** Algorithms that rely on distances or similarities between data points, such as k-nearest neighbors (KNN) and support vector machines (SVM), can be influenced by feature scales. Features with larger scales may dominate the distance calculations.\n",
    "\n",
    "3. **Regularization:** Regularization techniques, like L1 (Lasso) and L2 (Ridge) regularization, add penalty terms based on feature coefficients. Scaling ensures that all features are treated equally in the regularization process.\n",
    "\n",
    "Common methods for feature scaling include:\n",
    "\n",
    "1. **Min-Max Scaling (Normalization):** This method scales features to a specific range, typically [0, 1]. It's done using the following formula:\n",
    "\n",
    "   $$X' = \\frac{X - X_{min}}{X_{max} - X_{min}}$$\n",
    "\n",
    "   - Here, $X$ is the original feature value, $X_{min}$ is the minimum value of the feature, and $X_{max}$ is the maximum value of the feature.  \n",
    "<br />\n",
    "<br />\n",
    "2. **Standardization (Z-score Scaling):** This method scales features to have a mean (average) of 0 and a standard deviation of 1. It's done using the following formula:\n",
    "\n",
    "   $$X' = \\frac{X - \\mu}{\\sigma}$$\n",
    "\n",
    "   - $X$ is the original feature value, $\\mu$ is the mean of the feature, and $\\sigma$ is the standard deviation of the feature.  \n",
    "<br />\n",
    "<br />\n",
    "3. **Robust Scaling:** Robust scaling is a method that scales features to the interquartile range (IQR) and is less affected by outliers. It's calculated as:\n",
    "\n",
    "   $$X' = \\frac{X - Q1}{Q3 - Q1}$$\n",
    "\n",
    "   - $X$ is the original feature value, $Q1$ is the first quartile (25th percentile), and $Q3$ is the third quartile (75th percentile) of the feature.  \n",
    "<br />\n",
    "<br />\n",
    "4. **Log Transformation:** In cases where data is highly skewed or has a heavy-tailed distribution, taking the logarithm of the feature values can help stabilize the variance and improve scaling.\n",
    "\n",
    "The choice of scaling method depends on the characteristics of your data and the requirements of your machine learning algorithm. **Min-max scaling and standardization are the most commonly used techniques and work well for many datasets.**\n",
    "\n",
    "Scaling should be applied separately to each training and test set to prevent data leakage from the test set into the training set. Additionally, **some algorithms may not require feature scaling, particularly tree-based models.**"
   ]
  },
  {
   "cell_type": "code",
   "execution_count": null,
   "metadata": {
    "id": "COef9EbCLfHb"
   },
   "outputs": [],
   "source": [
    "# Write your code here\n",
    "from sklearn.base import BaseEstimator, TransformerMixin\n",
    "from sklearn.preprocessing import StandardScaler\n",
    "import warnings\n",
    "\n",
    "warnings.filterwarnings(\"ignore\")\n",
    "\n",
    "class FeatureScaler(BaseEstimator, TransformerMixin):\n",
    "    def __init__(self, method='standardization'):\n",
    "        self.method = method\n",
    "        self.scaler = None\n",
    "\n",
    "    def fit(self, X, y=None):\n",
    "        if self.method == 'standardization':\n",
    "            self.scaler = StandardScaler()\n",
    "        elif self.method == 'minmax':\n",
    "            self.scaler = MinMaxScaler()\n",
    "        elif self.method == 'robust':\n",
    "            self.scaler = RobustScaler()\n",
    "        self.scaler.fit(X)\n",
    "        return self\n",
    "\n",
    "    def transform(self, X):\n",
    "        return self.scaler.transform(X)\n"
   ]
  },
  {
   "cell_type": "markdown",
   "metadata": {
    "id": "f_Lh-4JwLfHc"
   },
   "source": [
    "### II. Feature Encoding\n",
    "\n",
    "**Feature encoding**, also known as **categorical encoding**, is the process of converting categorical data (non-numeric data) into a numerical format so that it can be used as input for machine learning algorithms. Most machine learning models require numerical data for training and prediction, so feature encoding is a critical step in data preprocessing.\n",
    "\n",
    "Categorical data can take various forms, including:\n",
    "\n",
    "1. **Nominal Data:** Categories with no intrinsic order, like colors or country names.  \n",
    "\n",
    "2. **Ordinal Data:** Categories with a meaningful order but not necessarily equidistant, like education levels (e.g., \"high school,\" \"bachelor's,\" \"master's\").\n",
    "\n",
    "There are several common methods for encoding categorical data:\n",
    "\n",
    "1. **Label Encoding:**\n",
    "\n",
    "   - Label encoding assigns a unique integer to each category in a feature.\n",
    "   - It's suitable for ordinal data where there's a clear order among categories.\n",
    "   - For example, if you have an \"education\" feature with values \"high school,\" \"bachelor's,\" and \"master's,\" you can encode them as 0, 1, and 2, respectively.\n",
    "<br />\n",
    "<br />\n",
    "2. **One-Hot Encoding:**\n",
    "\n",
    "   - One-hot encoding creates a binary (0 or 1) column for each category in a nominal feature.\n",
    "   - It's suitable for nominal data where there's no inherent order among categories.\n",
    "   - Each category becomes a new feature, and the presence (1) or absence (0) of a category is indicated for each row.\n",
    "<br />\n",
    "<br />\n",
    "3. **Target Encoding (Mean Encoding):**\n",
    "\n",
    "   - Target encoding replaces each category with the mean of the target variable for that category.\n",
    "   - It's often used for classification problems."
   ]
  },
  {
   "cell_type": "code",
   "execution_count": null,
   "metadata": {
    "id": "psElSUugLfHc"
   },
   "outputs": [],
   "source": [
    "# Write your code here\n",
    "from sklearn.preprocessing import OneHotEncoder, LabelEncoder\n",
    "\n",
    "class FeatureEncoder(BaseEstimator, TransformerMixin):\n",
    "    def __init__(self, encoding_type='onehot', columns=None):\n",
    "        self.encoding_type = encoding_type\n",
    "        self.columns = columns\n",
    "        self.encoder = None\n",
    "\n",
    "    def fit(self, X, y=None):\n",
    "        if self.encoding_type == 'onehot':\n",
    "            self.encoder = OneHotEncoder(sparse=False, handle_unknown='ignore')\n",
    "        elif self.encoding_type == 'label':\n",
    "            self.encoder = LabelEncoder()\n",
    "        self.encoder.fit(X[self.columns])\n",
    "        return self\n",
    "\n",
    "    def transform(self, X):\n",
    "        X_encoded = X.copy()\n",
    "        if self.encoding_type == 'onehot':\n",
    "            encoded_array = self.encoder.transform(X_encoded[self.columns])\n",
    "            X_encoded = X_encoded.drop(columns=self.columns)\n",
    "            return np.hstack([X_encoded.values, encoded_array])\n",
    "        elif self.encoding_type == 'label':\n",
    "            X_encoded[self.columns] = self.encoder.transform(X_encoded[self.columns])\n",
    "        return X_encoded"
   ]
  },
  {
   "cell_type": "markdown",
   "metadata": {
    "id": "jKQO9wtB8Pc0"
   },
   "source": [
    "### III. Handling Imbalanced Dataset\n",
    "\n",
    "**Handling imbalanced datasets** is important because imbalanced data can lead to several issues that negatively impact the performance and reliability of machine learning models. Here are some key reasons:\n",
    "\n",
    "1. **Biased Model Performance**:\n",
    "\n",
    " - Models trained on imbalanced data tend to be biased towards the majority class, leading to poor performance on the minority class. This can result in misleading accuracy metrics.\n",
    "\n",
    "2. **Misleading Accuracy**:\n",
    "\n",
    " - High overall accuracy can be misleading in imbalanced datasets. For example, if 95% of the data belongs to one class, a model that always predicts the majority class will have 95% accuracy but will fail to identify the minority class.\n",
    "\n",
    "3. **Poor Generalization**:\n",
    "\n",
    " - Models trained on imbalanced data may not generalize well to new, unseen data, especially if the minority class is underrepresented.\n",
    "\n",
    "\n",
    "Some methods to handle imbalanced datasets:\n",
    "1. **Resampling Methods**:\n",
    "\n",
    " - Oversampling: Increase the number of instances in the minority class by duplicating or generating synthetic samples (e.g., SMOTE).\n",
    " - Undersampling: Reduce the number of instances in the majority class to balance the dataset.\n",
    "\n",
    "2. **Evaluation Metrics**:\n",
    "\n",
    " - Use appropriate evaluation metrics such as precision, recall, F1-score, ROC-AUC, and confusion matrix instead of accuracy to better assess model performance on imbalanced data.\n",
    "\n",
    "3. **Algorithmic Approaches**:\n",
    "\n",
    " - Use algorithms that are designed to handle imbalanced data, such as decision trees, random forests, or ensemble methods.\n",
    " - Adjust class weights in algorithms to give more importance to the minority class."
   ]
  },
  {
   "cell_type": "code",
   "execution_count": null,
   "metadata": {
    "id": "u2BQd2XJ9W1i"
   },
   "outputs": [],
   "source": [
    "# Write your code here\n",
    "from imblearn.over_sampling import SMOTE\n",
    "\n",
    "class BalanceDataset(BaseEstimator, TransformerMixin):\n",
    "    def __init__(self, strategy='smote'):\n",
    "        self.strategy = strategy\n",
    "        self.sampler = None\n",
    "\n",
    "    def fit(self, X, y=None):\n",
    "        if self.strategy == 'smote':\n",
    "            self.sampler = SMOTE()\n",
    "        return self\n",
    "\n",
    "    def transform(self, X, y):\n",
    "        return self.sampler.fit_resample(X, y)"
   ]
  },
  {
   "cell_type": "markdown",
   "metadata": {
    "id": "fTMSyUzf_-HQ"
   },
   "source": [
    "### IV. Data Normalization\n",
    "\n",
    "Data normalization is used to achieve a standard distribution. Without normalization, models or processes that rely on the assumption of normality may not work correctly. Normalization helps reduce the magnitude effect and ensures numerical stability during optimization."
   ]
  },
  {
   "cell_type": "code",
   "execution_count": null,
   "metadata": {
    "id": "HLOWHftjF1JU"
   },
   "outputs": [],
   "source": [
    "# Write your code here\n",
    "from sklearn.preprocessing import Normalizer\n",
    "\n",
    "class DataNormalizer(BaseEstimator, TransformerMixin):\n",
    "    def __init__(self, norm='l2'):\n",
    "        self.norm = norm\n",
    "        self.normalizer = Normalizer(norm=self.norm)\n",
    "\n",
    "    def fit(self, X, y=None):\n",
    "        return self\n",
    "\n",
    "    def transform(self, X):\n",
    "        return self.normalizer.transform(X)"
   ]
  },
  {
   "cell_type": "markdown",
   "metadata": {
    "id": "MSZPZSntF3Kb"
   },
   "source": [
    "### V. Dimensionality Reduction\n",
    "\n",
    "Dimensionality reduction is a technique used in data preprocessing to reduce the number of input features (dimensions) in a dataset while retaining as much important information as possible. It is essential when dealing with high-dimensional data, where too many features can cause problems like increased computational costs, overfitting, and difficulty in visualization. Reducing dimensions simplifies the data, making it easier to analyze and improving the performance of machine learning models.\n",
    "\n",
    "One of the main approaches to dimensionality reduction is feature extraction. Feature extraction creates new, smaller sets of features that capture the essence of the original data. Common techniques include:\n",
    "\n",
    "1. **Principal Component Analysis (PCA)**: Converts correlated features into a smaller number of uncorrelated \"principal components.\"\n",
    "2. **t-SNE (t-Distributed Stochastic Neighbor Embedding)**: A visualization-focused method to project high-dimensional data into 2D or 3D spaces.\n",
    "3. **Autoencoders**: Neural networks that learn compressed representations of the data."
   ]
  },
  {
   "cell_type": "code",
   "execution_count": null,
   "metadata": {
    "id": "5rksSMAWICY_"
   },
   "outputs": [],
   "source": [
    "# Write your code here\n",
    "from sklearn.decomposition import PCA\n",
    "\n",
    "class DimensionalityReducer(BaseEstimator, TransformerMixin):\n",
    "    def __init__(self, n_components=2):\n",
    "        self.n_components = n_components\n",
    "        self.pca = PCA(n_components=self.n_components)\n",
    "\n",
    "    def fit(self, X, y=None):\n",
    "        self.pca.fit(X)\n",
    "        return self\n",
    "\n",
    "    def transform(self, X):\n",
    "        return self.pca.transform(X)"
   ]
  },
  {
   "cell_type": "markdown",
   "metadata": {
    "id": "-ctVzt5DLfHd"
   },
   "source": [
    "# 3. Compile Preprocessing Pipeline\n",
    "\n",
    "All of the preprocessing classes or functions defined earlier will be compiled in this step."
   ]
  },
  {
   "cell_type": "markdown",
   "metadata": {
    "id": "S_ZlncSVjJG6"
   },
   "source": [
    "If you use sklearn to create preprocessing classes, you can list your preprocessing classes in the Pipeline object sequentially, and then fit and transform your data."
   ]
  },
  {
   "cell_type": "code",
   "execution_count": null,
   "metadata": {
    "id": "jHraoW_7LfHd"
   },
   "outputs": [],
   "source": [
    "# from sklearn.pipeline import Pipeline\n",
    "\n",
    "# # Note: You can add or delete preprocessing components from this pipeline\n",
    "\n",
    "# pipe = Pipeline([(\"imputer\", FeatureImputer()),\n",
    "#                  (\"featurecreator\", FeatureCreator()),\n",
    "#                  (\"scaler\", FeatureScaler()),\n",
    "#                  (\"encoder\", FeatureEncoder())])\n",
    "\n",
    "# train_set = pipe.fit_transform(train_set)\n",
    "# val_set = pipe.transform(val_set)"
   ]
  },
  {
   "cell_type": "code",
   "execution_count": null,
   "metadata": {
    "id": "9s56aFFxLfHd"
   },
   "outputs": [],
   "source": [
    "# # Your code should work up until this point\n",
    "# train_set = pipe.fit_transform(train_set)\n",
    "# val_set = pipe.transform(val_set)"
   ]
  },
  {
   "cell_type": "markdown",
   "metadata": {
    "id": "SXoCqMztjhr-"
   },
   "source": [
    "or create your own here"
   ]
  },
  {
   "cell_type": "code",
   "execution_count": null,
   "metadata": {
    "id": "7OoZ3oXEj2CW"
   },
   "outputs": [],
   "source": [
    "# Write your code here\n",
    "from imblearn.pipeline import Pipeline\n",
    "from imblearn.over_sampling import SMOTE\n",
    "from sklearn.compose import ColumnTransformer\n",
    "from sklearn.impute import SimpleImputer\n",
    "from sklearn.preprocessing import StandardScaler, OneHotEncoder\n",
    "from sklearn.decomposition import PCA\n",
    "from sklearn.decomposition import TruncatedSVD\n",
    "\n",
    "# Definisikan fitur numerik dan kategorikal\n",
    "numerical_features = train_set[top_numeric].select_dtypes(include=[\"int64\", \"float64\"]).columns\n",
    "categorical_features = train_set.select_dtypes(include=[\"object\"]).columns\n",
    "\n",
    "# Preprocessing untuk data numerik\n",
    "numerical_transformer = Pipeline(steps=[\n",
    "    (\"imputer\", SimpleImputer(strategy='mean')),\n",
    "    (\"scaler\", StandardScaler())\n",
    "])\n",
    "\n",
    "# Preprocessing untuk data kategorikal\n",
    "categorical_transformer = Pipeline(steps=[\n",
    "    (\"imputer\", SimpleImputer(strategy='most_frequent')),\n",
    "    (\"encoder\", OneHotEncoder(handle_unknown='ignore'))\n",
    "])\n",
    "\n",
    "# Gabungkan preprocessing dengan ColumnTransformer\n",
    "preprocessor = ColumnTransformer(\n",
    "    transformers=[\n",
    "        (\"num\", numerical_transformer, numerical_features),\n",
    "        (\"cat\", categorical_transformer, categorical_features)\n",
    "    ]\n",
    ")\n",
    "\n",
    "# Pipeline dengan imbalanced-learn\n",
    "pipe = Pipeline([\n",
    "    (\"preprocessor\", preprocessor),\n",
    "    (\"balancer\", SMOTE()),  # Oversampling untuk menyeimbangkan kelas\n",
    "    (\"dim_reducer\",  TruncatedSVD(n_components=5))  # Reduksi dimensi\n",
    "])\n",
    "\n",
    "# Terapkan pipeline pada training data\n",
    "selected_columns = top_numeric.tolist() + categorical_features.tolist()\n",
    "pipe.fit(train_set[selected_columns], y_train)\n",
    "\n",
    "# Transform data setelah pipeline di-fit\n",
    "# Transform data setelah pipeline di-fit\n",
    "X_train_preprocessed = pipe.transform(train_set)\n",
    "\n",
    "# Lakukan hal yang sama untuk validation set\n",
    "X_val_preprocessed = pipe.transform(val_set)\n",
    "\n",
    "print(\"Shape data setelah preprocessing:\")\n",
    "print(f\"X_train_preprocessed: {X_train_preprocessed.shape}\")\n",
    "print(f\"X_val_preprocessed: {X_val_preprocessed.shape}\")\n",
    "\n",
    "y_train_balanced = y_train  # Karena balancing terjadi di pipeline, tidak perlu explicit resampling di sini\n",
    "\n",
    "print(\"Preprocessing dan balancing selesai. Data siap digunakan untuk model.\")"
   ]
  },
  {
   "cell_type": "code",
   "execution_count": null,
   "metadata": {},
   "outputs": [],
   "source": [
    "# Terapkan pipeline pada dataset test\n",
    "processed_test_data = pipe.transform(merged_test_data)"
   ]
  },
  {
   "cell_type": "markdown",
   "metadata": {
    "id": "9A3adbZXLfHe"
   },
   "source": [
    "# 4. Modeling and Validation\n",
    "\n",
    "Modelling is the process of building your own machine learning models to solve specific problems, or in this assignment context, predicting the target feature `attack_cat`. Validation is the process of evaluating your trained model using the validation set or cross-validation method and providing some metrics that can help you decide what to do in the next iteration of development."
   ]
  },
  {
   "cell_type": "markdown",
   "metadata": {
    "id": "ZnhMNbBILfHf"
   },
   "source": [
    "## A. KNN"
   ]
  },
  {
   "cell_type": "code",
   "execution_count": null,
   "metadata": {},
   "outputs": [],
   "source": [
    "# Rumus perhitungan jarak\n",
    "def euclidean_distance(x1, x2):\n",
    "    return np.sqrt(np.sum((x1 - x2) ** 2))\n",
    "\n",
    "def manhattan_distance(x1, x2):\n",
    "    return np.sum(np.abs(x1 - x2))\n",
    "\n",
    "def minkowski_distance(x1, x2, p=3):\n",
    "    return np.sum(np.abs(x1 - x2) ** p) ** (1 / p)\n",
    "\n",
    "# Kelas KNN from scratch\n",
    "class KNN:\n",
    "    def __init__(self, k=3, metric='euclidean', p=3):\n",
    "        self.k = k\n",
    "        self.metric = metric\n",
    "        self.p = p\n",
    "        self.X_train = None\n",
    "        self.y_train = None\n",
    "\n",
    "    def fit(self, X, y):\n",
    "        self.X_train = X\n",
    "        self.y_train = y\n",
    "\n",
    "    def _calculate_distance(self, x1, x2):\n",
    "        if self.metric == 'euclidean':\n",
    "            return euclidean_distance(x1, x2)\n",
    "        elif self.metric == 'manhattan':\n",
    "            return manhattan_distance(x1, x2)\n",
    "        elif self.metric == 'minkowski':\n",
    "            return minkowski_distance(x1, x2, self.p)\n",
    "        else:\n",
    "            raise ValueError(\"Choose another metric, only euclidean, manhattan, and minskowski are supported\")\n",
    "\n",
    "    def predict(self, X):\n",
    "      predictions = []\n",
    "      for x in X:\n",
    "          distances = [self._calculate_distance(x, x_train) for x_train in self.X_train]\n",
    "          \n",
    "          k_indices = np.argsort(distances)[:self.k]\n",
    "          \n",
    "          k_nearest_labels = [self.y_train[i] for i in k_indices]\n",
    "          \n",
    "          unique_labels, counts = np.unique(k_nearest_labels, return_counts=True)\n",
    "          most_common = unique_labels[np.argmax(counts)]\n",
    "          \n",
    "          predictions.append(most_common)\n",
    "      return np.array(predictions)\n",
    "    \n",
    "\n",
    "    def score(self, X, y):\n",
    "        y_pred = self.predict(X)\n",
    "        accuracy = np.mean(y_pred == y)\n",
    "        return accuracy\n"
   ]
  },
  {
   "cell_type": "code",
   "execution_count": null,
   "metadata": {},
   "outputs": [],
   "source": [
    "# from sklearn.metrics import classification_report, confusion_matrix, roc_auc_score\n",
    "# import matplotlib.pyplot as plt\n",
    "# import seaborn as sns\n",
    "\n",
    "# # KNN from scratch\n",
    "# knn = KNN(k=5)\n",
    "\n",
    "# # Fit model\n",
    "# knn.fit(X_train_preprocessed, y_train_balanced)\n",
    "\n",
    "# # Evaluate on validation set\n",
    "# y_pred_knn = knn.predict(pipe.transform(val_set))\n",
    "\n",
    "# # Metrics\n",
    "# print(\"KNN Classification Report:\")\n",
    "# print(classification_report(y_val, y_pred_knn))\n",
    "\n",
    "# # Confusion matrix\n",
    "# conf_matrix = confusion_matrix(y_val, y_pred_knn)\n",
    "# sns.heatmap(conf_matrix, annot=True, fmt='d', cmap=\"Blues\")\n",
    "# plt.title(\"KNN Confusion Matrix\")\n",
    "# plt.xlabel(\"Predicted\")\n",
    "# plt.ylabel(\"Actual\")\n",
    "# plt.show()"
   ]
  },
  {
   "cell_type": "code",
   "execution_count": null,
   "metadata": {
    "id": "KV6ICmFmlqjk"
   },
   "outputs": [],
   "source": [
    "# # Type your code here\n",
    "# from sklearn.neighbors import KNeighborsClassifier\n",
    "\n",
    "# from sklearn.model_selection import cross_val_score, StratifiedKFold\n",
    "\n",
    "\n",
    "# # Model KNN\n",
    "# knn = KNeighborsClassifier(n_neighbors=5)\n",
    "\n",
    "# # Fit model\n",
    "# knn.fit(X_train_preprocessed, y_train_balanced)\n",
    "\n",
    "# # Evaluate on validation set\n",
    "# y_pred_knn = knn.predict(pipe.transform(val_set))\n",
    "\n",
    "# # Metrics\n",
    "# print(\"KNN Classification Report:\")\n",
    "# print(classification_report(y_val, y_pred_knn))\n",
    "\n",
    "# # Confusion matrix\n",
    "# conf_matrix = confusion_matrix(y_val, y_pred_knn)\n",
    "# sns.heatmap(conf_matrix, annot=True, fmt='d', cmap=\"Blues\")\n",
    "# plt.title(\"KNN Confusion Matrix\")\n",
    "# plt.xlabel(\"Predicted\")\n",
    "# plt.ylabel(\"Actual\")\n",
    "# plt.show()"
   ]
  },
  {
   "cell_type": "markdown",
   "metadata": {
    "id": "nW0bMzkDLfHf"
   },
   "source": [
    "## B. Naive Bayes"
   ]
  },
  {
   "cell_type": "code",
   "execution_count": null,
   "metadata": {},
   "outputs": [],
   "source": [
    "import numpy as np\n",
    "import pandas as pd\n",
    "from math import pi, exp, sqrt\n",
    "from collections import defaultdict\n",
    "\n",
    "# Gaussian Naive Bayes from scratch\n",
    "class GaussianNaiveBayes:\n",
    "    def __init__(self):\n",
    "        self.class_probs = None\n",
    "        self.feature_stats = None\n",
    "\n",
    "    def fit(self, X, y):\n",
    "        \"\"\"\n",
    "        Fit the model using X as training data and y as labels\n",
    "        \"\"\"\n",
    "        self.class_probs = self._compute_class_probs(y)\n",
    "        self.feature_stats = self._compute_feature_stats(X, y)\n",
    "\n",
    "    def _compute_class_probs(self, y):\n",
    "        \"\"\"\n",
    "        Compute probabilities of each class\n",
    "        \"\"\"\n",
    "        class_probs = defaultdict(lambda: 0)\n",
    "        total_samples = len(y)\n",
    "\n",
    "        for label in y:\n",
    "            class_probs[label] += 1\n",
    "        \n",
    "        for label in class_probs:\n",
    "            class_probs[label] /= total_samples\n",
    "        \n",
    "        return class_probs\n",
    "    \n",
    "    def _compute_feature_stats(self, X, y):\n",
    "        \"\"\"\n",
    "        Compute mean and variance of each feature ()\n",
    "        \"\"\"\n",
    "        feature_stats = defaultdict(lambda: defaultdict(lambda: {'mean': 0, 'var': 0, 'count': 0}))\n",
    "        \n",
    "        # Compute sum, squared sum, and count of each feature\n",
    "        for i in range(len(X)):\n",
    "            label = y.iloc[i]\n",
    "            for j in range(len(X[i])):\n",
    "                feature_value = X[i][j]\n",
    "                feature_stats[label][j]['mean'] += feature_value\n",
    "                feature_stats[label][j]['var'] += feature_value ** 2\n",
    "                feature_stats[label][j]['count'] += 1\n",
    "        \n",
    "        # Compute mean and variance by dividing by count\n",
    "        for label in feature_stats:\n",
    "            for feature_index in feature_stats[label]:\n",
    "                count = feature_stats[label][feature_index]['count']\n",
    "                mean = feature_stats[label][feature_index]['mean'] / count\n",
    "                variance = (feature_stats[label][feature_index]['var'] / count) - mean ** 2\n",
    "                feature_stats[label][feature_index]['mean'] = mean\n",
    "                feature_stats[label][feature_index]['var'] = variance\n",
    "        \n",
    "        return feature_stats\n",
    "    \n",
    "    def _gaussian_pdf(self, x, mean, var):\n",
    "        \"\"\"\n",
    "        The probability density function based on Gaussian distribution\n",
    "        \"\"\"\n",
    "        if var == 0:\n",
    "            return 1 if x == mean else 0\n",
    "        coefficient = 1 / sqrt(2 * pi * var)\n",
    "        exponent = exp(-(x - mean) ** 2 / (2 * var))\n",
    "        return coefficient * exponent\n",
    "\n",
    "    def predict(self, X):\n",
    "        \"\"\"\n",
    "        Predict class labels for input data X\n",
    "        \"\"\"\n",
    "        predictions = []\n",
    "        \n",
    "        for sample in X:\n",
    "            class_probs = self.class_probs.copy()\n",
    "            for label in self.class_probs:\n",
    "                prob = np.log(class_probs[label])  # Use log to avoid numerical underflow\n",
    "                \n",
    "                for feature_index in range(len(sample)):\n",
    "                    mean = self.feature_stats[label][feature_index]['mean']\n",
    "                    var = self.feature_stats[label][feature_index]['var']\n",
    "                    feature_value = sample[feature_index]\n",
    "                    prob += np.log(self._gaussian_pdf(feature_value, mean, var))\n",
    "                \n",
    "                class_probs[label] = prob\n",
    "            \n",
    "            # Get the class with the highest log-probability\n",
    "            predicted_class = max(class_probs, key=class_probs.get)\n",
    "            predictions.append(predicted_class)\n",
    "        \n",
    "        return np.array(predictions)\n"
   ]
  },
  {
   "cell_type": "code",
   "execution_count": null,
   "metadata": {},
   "outputs": [],
   "source": [
    "# Model Naive Bayes\n",
    "nb = GaussianNaiveBayes()\n",
    "\n",
    "# Fit model\n",
    "nb.fit(X_train_preprocessed, y_train_balanced)\n",
    "\n",
    "# Evaluate on validation set\n",
    "y_pred_nb = nb.predict(pipe.transform(val_set))\n",
    "\n",
    "# Metrics\n",
    "print(\"Naive Bayes Classification Report:\")\n",
    "print(classification_report(y_val, y_pred_nb))\n",
    "\n",
    "# Confusion matrix\n",
    "conf_matrix = confusion_matrix(y_val, y_pred_nb)\n",
    "sns.heatmap(conf_matrix, annot=True, fmt='d', cmap=\"Blues\")\n",
    "plt.title(\"Naive Bayes Confusion Matrix\")\n",
    "plt.xlabel(\"Predicted\")\n",
    "plt.ylabel(\"Actual\")\n",
    "plt.show()"
   ]
  },
  {
   "cell_type": "code",
   "execution_count": null,
   "metadata": {
    "id": "C_XwsN_-LfHg"
   },
   "outputs": [],
   "source": [
    "# Type your code here\n",
    "from sklearn.naive_bayes import GaussianNB\n",
    "\n",
    "# Model Naive Bayes\n",
    "nb = GaussianNB()\n",
    "\n",
    "# Fit model\n",
    "nb.fit(X_train_preprocessed, y_train_balanced)\n",
    "\n",
    "# Evaluate on validation set\n",
    "y_pred_nb = nb.predict(pipe.transform(val_set))\n",
    "\n",
    "# Metrics\n",
    "print(\"Naive Bayes Classification Report:\")\n",
    "print(classification_report(y_val, y_pred_nb))\n",
    "\n",
    "# Confusion matrix\n",
    "conf_matrix = confusion_matrix(y_val, y_pred_nb)\n",
    "sns.heatmap(conf_matrix, annot=True, fmt='d', cmap=\"Blues\")\n",
    "plt.title(\"Naive Bayes Confusion Matrix\")\n",
    "plt.xlabel(\"Predicted\")\n",
    "plt.ylabel(\"Actual\")\n",
    "plt.show()"
   ]
  },
  {
   "cell_type": "markdown",
   "metadata": {
    "id": "TLDtIkPdLfHg"
   },
   "source": [
    "## C. ID3"
   ]
  },
  {
   "cell_type": "code",
   "execution_count": null,
   "metadata": {
    "id": "gZ6_x1LKLfHh"
   },
   "outputs": [],
   "source": [
    "# Type your code here\n",
    "from sklearn.tree import DecisionTreeClassifier, plot_tree\n",
    "\n",
    "# Model ID3 (Decision Tree)\n",
    "id3 = DecisionTreeClassifier(criterion=\"entropy\", random_state=42)\n",
    "\n",
    "# Fit model\n",
    "id3.fit(X_train_preprocessed, y_train_balanced)\n",
    "\n",
    "# Evaluate on validation set\n",
    "y_pred_id3 = id3.predict(pipe.transform(val_set))\n",
    "\n",
    "# Metrics\n",
    "print(\"ID3 Classification Report:\")\n",
    "print(classification_report(y_val, y_pred_id3))\n",
    "\n",
    "# Confusion matrix\n",
    "conf_matrix = confusion_matrix(y_val, y_pred_id3)\n",
    "sns.heatmap(conf_matrix, annot=True, fmt='d', cmap=\"Blues\")\n",
    "plt.title(\"ID3 Confusion Matrix\")\n",
    "plt.xlabel(\"Predicted\")\n",
    "plt.ylabel(\"Actual\")\n",
    "plt.show()\n",
    "\n",
    "# Visualize Decision Tree\n",
    "plt.figure(figsize=(15, 10))\n",
    "plot_tree(id3, feature_names=train_set.columns, class_names=id3.classes_, filled=True)\n",
    "plt.title(\"ID3 Decision Tree\")\n",
    "plt.show()"
   ]
  },
  {
   "cell_type": "markdown",
   "metadata": {
    "id": "LoH2u6fOLfHh"
   },
   "source": [
    "## D. Improvements (Optional)\n",
    "\n",
    "- **Visualize the model evaluation result**\n",
    "\n",
    "This will help you to understand the details more clearly about your model's performance. From the visualization, you can see clearly if your model is leaning towards a class than the others. (Hint: confusion matrix, ROC-AUC curve, etc.)\n",
    "\n",
    "- **Explore the hyperparameters of your models**\n",
    "\n",
    "Each models have their own hyperparameters. And each of the hyperparameter have different effects on the model behaviour. You can optimize the model performance by finding the good set of hyperparameters through a process called **hyperparameter tuning**. (Hint: Grid search, random search, bayesian optimization)\n",
    "\n",
    "- **Cross-validation**\n",
    "\n",
    "Cross-validation is a critical technique in machine learning and data science for evaluating and validating the performance of predictive models. It provides a more **robust** and **reliable** evaluation method compared to a hold-out (single train-test set) validation. Though, it requires more time and computing power because of how cross-validation works. (Hint: k-fold cross-validation, stratified k-fold cross-validation, etc.)"
   ]
  },
  {
   "cell_type": "code",
   "execution_count": null,
   "metadata": {
    "id": "pg-A54yELfHh"
   },
   "outputs": [],
   "source": [
    "# Type your code here\n",
    "from sklearn.model_selection import GridSearchCV, StratifiedKFold, cross_val_score\n",
    "from sklearn.metrics import classification_report, roc_curve, auc, accuracy_score\n",
    "from sklearn.preprocessing import label_binarize\n",
    "from sklearn.neighbors import KNeighborsClassifier\n",
    "from sklearn.naive_bayes import GaussianNB\n",
    "from sklearn.tree import DecisionTreeClassifier\n",
    "import matplotlib.pyplot as plt\n",
    "\n",
    "# Hyperparameter Tuning and Evaluation for KNN\n",
    "def knn_tuning(X_train, y_train, X_val, y_val):\n",
    "    print(\"Tuning KNN...\")\n",
    "    param_grid = {'n_neighbors': [3, 5, 7, 9], 'weights': ['uniform', 'distance']}\n",
    "    grid_search = GridSearchCV(KNeighborsClassifier(), param_grid, cv=5, scoring='accuracy')\n",
    "    grid_search.fit(X_train, y_train)\n",
    "    best_knn = grid_search.best_estimator_\n",
    "\n",
    "    # Validation Performance\n",
    "    y_pred = best_knn.predict(X_val)\n",
    "    print(\"\\nBest KNN Parameters:\", grid_search.best_params_)\n",
    "    print(\"KNN Classification Report:\")\n",
    "    print(classification_report(y_val, y_pred))\n",
    "\n",
    "    return best_knn, y_pred\n",
    "\n",
    "# Hyperparameter Tuning and Evaluation for Naive Bayes\n",
    "def naive_bayes_tuning(X_train, y_train, X_val, y_val):\n",
    "    print(\"Tuning Naive Bayes...\")\n",
    "    model = GaussianNB()\n",
    "    model.fit(X_train, y_train)\n",
    "\n",
    "    # Validation Performance\n",
    "    y_pred = model.predict(X_val)\n",
    "    print(\"\\nNaive Bayes Classification Report:\")\n",
    "    print(classification_report(y_val, y_pred))\n",
    "\n",
    "    return model, y_pred\n",
    "\n",
    "# Hyperparameter Tuning and Evaluation for ID3 (Decision Tree)\n",
    "def id3_tuning(X_train, y_train, X_val, y_val):\n",
    "    print(\"Tuning ID3...\")\n",
    "    param_grid = {'max_depth': [None, 5, 10, 15], 'criterion': ['gini', 'entropy']}\n",
    "    grid_search = GridSearchCV(DecisionTreeClassifier(), param_grid, cv=5, scoring='accuracy')\n",
    "    grid_search.fit(X_train, y_train)\n",
    "    best_id3 = grid_search.best_estimator_\n",
    "\n",
    "    # Validation Performance\n",
    "    y_pred = best_id3.predict(X_val)\n",
    "    print(\"\\nBest ID3 Parameters:\", grid_search.best_params_)\n",
    "    print(\"ID3 Classification Report:\")\n",
    "    print(classification_report(y_val, y_pred))\n",
    "\n",
    "    return best_id3, y_pred\n",
    "\n",
    "# Visualize ROC Curve\n",
    "def plot_roc_curve(model, X_val, y_val, classes):\n",
    "    y_val_binarized = label_binarize(y_val, classes=classes)\n",
    "    y_pred_proba = model.predict_proba(X_val)\n",
    "\n",
    "    fpr = dict()\n",
    "    tpr = dict()\n",
    "    roc_auc = dict()\n",
    "    for i in range(len(classes)):\n",
    "        fpr[i], tpr[i], _ = roc_curve(y_val_binarized[:, i], y_pred_proba[:, i])\n",
    "        roc_auc[i] = auc(fpr[i], tpr[i])\n",
    "\n",
    "    # Plot ROC Curve\n",
    "    plt.figure()\n",
    "    for i in range(len(classes)):\n",
    "        plt.plot(fpr[i], tpr[i], label=f\"Class {classes[i]} (AUC = {roc_auc[i]:.2f})\")\n",
    "    plt.plot([0, 1], [0, 1], 'k--')\n",
    "    plt.title(\"ROC Curve\")\n",
    "    plt.xlabel(\"False Positive Rate\")\n",
    "    plt.ylabel(\"True Positive Rate\")\n",
    "    plt.legend()\n",
    "    plt.show()\n",
    "\n",
    "# Main Execution\n",
    "def main_model_improvement(X_train_preprocessed, y_train, X_val, y_val, classes):\n",
    "    # KNN\n",
    "    knn_model, knn_pred = knn_tuning(X_train_preprocessed, y_train, X_val, y_val)\n",
    "\n",
    "    # Naive Bayes\n",
    "    nb_model, nb_pred = naive_bayes_tuning(X_train_preprocessed, y_train, X_val, y_val)\n",
    "\n",
    "    # ID3\n",
    "    id3_model, id3_pred = id3_tuning(X_train_preprocessed, y_train, X_val, y_val)\n",
    "\n",
    "    # Compare Accuracy\n",
    "    knn_acc = accuracy_score(y_val, knn_pred)\n",
    "    nb_acc = accuracy_score(y_val, nb_pred)\n",
    "    id3_acc = accuracy_score(y_val, id3_pred)\n",
    "    print(f\"\\nAccuracy Comparison:\\nKNN: {knn_acc:.4f}\\nNaive Bayes: {nb_acc:.4f}\\nID3: {id3_acc:.4f}\")\n",
    "\n",
    "    # Best Model Selection\n",
    "    best_model = max([(knn_model, knn_acc), (nb_model, nb_acc), (id3_model, id3_acc)], key=lambda x: x[1])[0]\n",
    "    print(\"\\nSelected Best Model for Submission!\")\n",
    "\n",
    "    # Visualize ROC Curve\n",
    "    plot_roc_curve(best_model, X_val, y_val, classes=classes)\n",
    "\n",
    "    return best_model"
   ]
  },
  {
   "cell_type": "markdown",
   "metadata": {
    "id": "Li4l53DjLfHh"
   },
   "source": [
    "## E. Submission\n",
    "To predict the test set target feature and submit the results to the kaggle competition platform, do the following:\n",
    "1. Create a new pipeline instance identical to the first in Data Preprocessing\n",
    "2. With the pipeline, apply `fit_transform` to the original training set before splitting, then only apply `transform` to the test set.\n",
    "3. Retrain the model on the preprocessed training set\n",
    "4. Predict the test set\n",
    "5. Make sure the submission contains the `id` and `attack_cat` column."
   ]
  },
  {
   "cell_type": "code",
   "execution_count": null,
   "metadata": {
    "id": "LeqnfWc-LfHi"
   },
   "outputs": [],
   "source": [
    "# Type your code here\n",
    "# Evaluasi untuk menentukan model terbaik\n",
    "models = {\n",
    "    \"KNN\": knn,\n",
    "    \"Naive Bayes\": nb,\n",
    "    \"ID3\": id3\n",
    "}\n",
    "\n",
    "# Validasi model dan pilih yang terbaik berdasarkan akurasi\n",
    "val_predictions = {\n",
    "    \"KNN\": y_pred_knn,\n",
    "    \"Naive Bayes\": y_pred_nb,\n",
    "    \"ID3\": y_pred_id3\n",
    "}\n",
    "\n",
    "accuracies = {\n",
    "    name: accuracy_score(y_val, preds)\n",
    "    for name, preds in val_predictions.items()\n",
    "}\n",
    "\n",
    "# Model terbaik berdasarkan akurasi pada validation set\n",
    "best_model_name = max(accuracies, key=accuracies.get)\n",
    "best_model = models[best_model_name]\n",
    "\n",
    "print(f\"Model terbaik adalah: {best_model_name} dengan akurasi {accuracies[best_model_name]:.4f}\")\n",
    "\n",
    "# Gunakan model terbaik untuk memprediksi test set\n",
    "test_predictions = best_model.predict(processed_test_data)\n",
    "\n",
    "# Buat DataFrame untuk submission\n",
    "submission = pd.DataFrame({\n",
    "    \"id\": datasets_test[0][\"id\"],  # Ambil kembali kolom 'id' dari dataset test\n",
    "    \"attack_cat\": test_predictions\n",
    "})\n",
    "\n",
    "# Pastikan format kolom sesuai\n",
    "submission[\"attack_cat\"] = submission[\"attack_cat\"].astype(str)\n",
    "\n",
    "# Simpan ke file CSV\n",
    "submission.to_csv(\"submission.csv\", index=False)\n",
    "print(\"Submission file saved as 'submission.csv'\")"
   ]
  },
  {
   "cell_type": "markdown",
   "metadata": {
    "id": "R-jXvKOpLfHi"
   },
   "source": [
    "# 6. Error Analysis\n",
    "\n",
    "Based on all the process you have done until the modeling and evaluation step, write an analysis to support each steps you have taken to solve this problem. Write the analysis using the markdown block. Some questions that may help you in writing the analysis:\n",
    "\n",
    "- Does my model perform better in predicting one class than the other? If so, why is that?\n",
    "- To each models I have tried, which performs the best and what could be the reason?\n",
    "- Is it better for me to impute or drop the missing data? Why?\n",
    "- Does feature scaling help improve my model performance?\n",
    "- etc..."
   ]
  },
  {
   "cell_type": "markdown",
   "metadata": {
    "id": "tWL3nEAELfHj"
   },
   "source": [
    "`Provide your analysis here`"
   ]
  }
 ],
 "metadata": {
  "colab": {
   "provenance": [],
   "toc_visible": true
  },
  "kernelspec": {
   "display_name": "base",
   "language": "python",
   "name": "python3"
  },
  "language_info": {
   "codemirror_mode": {
    "name": "ipython",
    "version": 3
   },
   "file_extension": ".py",
   "mimetype": "text/x-python",
   "name": "python",
   "nbconvert_exporter": "python",
   "pygments_lexer": "ipython3",
   "version": "3.9.13"
  }
 },
 "nbformat": 4,
 "nbformat_minor": 0
}
